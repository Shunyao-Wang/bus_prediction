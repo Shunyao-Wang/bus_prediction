{
 "cells": [
  {
   "cell_type": "code",
   "execution_count": 3,
   "metadata": {},
   "outputs": [],
   "source": [
    "# -*- coding: utf-8 -*-\n",
    "# Python3.5\n",
    "import requests  # 导入requests\n",
    "from bs4 import BeautifulSoup  # 导入bs4中的BeautifulSoup\n",
    "import os\n",
    "import pandas as pd\n",
    "import numpy as np\n",
    "\n",
    "df = pd.read_csv('mini_station_map.csv', index_col=0)\n",
    "df['longitude', 'latitude'] = None\n",
    "# print(df)\n",
    "\n",
    "\n",
    "headers = {\n",
    "    'User-Agent': 'Mozilla/5.0 (Windows NT 10.0; WOW64) AppleWebKit/537.36 (KHTML, like Gecko) Chrome/49.0.2623.221 Safari/537.36 SE 2.X MetaSr 1.0'}\n",
    "all_url = 'https://restapi.amap.com/v3/geocode/geo?address=北京市朝阳区阜通东大街6号&output=XML&key=faf27f6e255729f070ae62bc0f5c6a74'  # 开始的URL地址\n",
    "start_html = requests.get(all_url, headers=headers)\n",
    "# print (start_html.text)\n",
    "Soup = BeautifulSoup(start_html.text, 'lxml')\n",
    "all_a = Soup.find('location')\n",
    "location = all_a.get_text()"
   ]
  },
  {
   "cell_type": "code",
   "execution_count": 7,
   "metadata": {},
   "outputs": [
    {
     "name": "stdout",
     "output_type": "stream",
     "text": [
      "['116.483038', '39.990633']\n"
     ]
    }
   ],
   "source": [
    "print(location.split(','))"
   ]
  }
 ],
 "metadata": {
  "kernelspec": {
   "display_name": "Python 3",
   "language": "python",
   "name": "python3"
  },
  "language_info": {
   "codemirror_mode": {
    "name": "ipython",
    "version": 3
   },
   "file_extension": ".py",
   "mimetype": "text/x-python",
   "name": "python",
   "nbconvert_exporter": "python",
   "pygments_lexer": "ipython3",
   "version": "3.6.5"
  }
 },
 "nbformat": 4,
 "nbformat_minor": 2
}
